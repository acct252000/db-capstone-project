{
 "cells": [
  {
   "cell_type": "code",
   "execution_count": 1,
   "id": "ee3c47bd-f332-4cd4-96dd-acdcc5b6a755",
   "metadata": {},
   "outputs": [
    {
     "name": "stdout",
     "output_type": "stream",
     "text": [
      "Requirement already satisfied: mysql-connector-python in /Library/Frameworks/Python.framework/Versions/3.11/lib/python3.11/site-packages (8.1.0)\n",
      "Requirement already satisfied: protobuf<=4.21.12,>=4.21.1 in /Library/Frameworks/Python.framework/Versions/3.11/lib/python3.11/site-packages (from mysql-connector-python) (4.21.12)\n"
     ]
    }
   ],
   "source": [
    "!pip3 install mysql-connector-python"
   ]
  },
  {
   "cell_type": "code",
   "execution_count": 3,
   "id": "a6161886-a863-4e7e-a1ef-4d715fcb31fd",
   "metadata": {},
   "outputs": [],
   "source": [
    "import mysql.connector as connector\n",
    "\n",
    "connection = connector.connect(user = \"user1\", password = \"password1\", db=\"LittleLemonDB\")"
   ]
  },
  {
   "cell_type": "code",
   "execution_count": 4,
   "id": "fd6839f9-ac60-4fa0-a7e3-62a38872155c",
   "metadata": {},
   "outputs": [
    {
     "name": "stdout",
     "output_type": "stream",
     "text": [
      "[('Bookings',), ('Customers',), ('Employees',), ('Menu',), ('MenuItems',), ('OrderDeliveryStatus',), ('Orders',), ('ordersview',)]\n"
     ]
    }
   ],
   "source": [
    "cursor = connection.cursor()\n",
    "\n",
    "show_tables_query = \"SHOW tables\" \n",
    "cursor.execute(show_tables_query)\n",
    "\n",
    "results = cursor.fetchall()\n",
    "\n",
    "print(results)"
   ]
  },
  {
   "cell_type": "code",
   "execution_count": 6,
   "id": "a7db1c91-51a2-49f3-85a8-2a6bc91008ce",
   "metadata": {},
   "outputs": [
    {
     "name": "stdout",
     "output_type": "stream",
     "text": [
      "('Melisse Southeran', 1234567895, 'email@email.com')\n",
      "('Felix Ouver', 1234567896, 'email@email.com')\n",
      "('Norby Foord', 1234567898, 'email@email.com')\n"
     ]
    }
   ],
   "source": [
    "##NOTE THAT QUERY MODIFIED TO 20 AS 60 RETURNS NOTHING!\n",
    "\n",
    "promotional_campaign_query = \"\"\"\n",
    "SELECT DISTINCT CONCAT(Customers.FirstName, ' ', Customers.LastName) AS FullName, Customers.ContactNumber, Customers.email FROM\n",
    "Customers INNER JOIN Bookings ON Customers.CustomerID = Bookings.CustomerID\n",
    "WHERE Bookings.BookingID IN (\n",
    "\tSELECT Orders.BookingID FROM\n",
    "\tOrders \n",
    "\tINNER JOIN OrderDeliveryStatus ON Orders.OrderID = OrderDeliveryStatus.OrderID\n",
    "\tINNER JOIN Menu on OrderDeliveryStatus.MenuID = Menu.MenuID\n",
    "\tGROUP BY Orders.OrderID\n",
    "\tHAVING SUM(Menu.Cost) >20);\n",
    " \"\"\"\n",
    "\n",
    "cursor.execute(promotional_campaign_query)\n",
    "\n",
    "results = cursor.fetchall()\n",
    "\n",
    "for result in results:\n",
    "    print(result)"
   ]
  },
  {
   "cell_type": "code",
   "execution_count": null,
   "id": "9522aa93-3dd2-4a28-bb03-c8bc96545e5d",
   "metadata": {},
   "outputs": [],
   "source": []
  }
 ],
 "metadata": {
  "kernelspec": {
   "display_name": "Python 3 (ipykernel)",
   "language": "python",
   "name": "python3"
  },
  "language_info": {
   "codemirror_mode": {
    "name": "ipython",
    "version": 3
   },
   "file_extension": ".py",
   "mimetype": "text/x-python",
   "name": "python",
   "nbconvert_exporter": "python",
   "pygments_lexer": "ipython3",
   "version": "3.11.4"
  }
 },
 "nbformat": 4,
 "nbformat_minor": 5
}
